{
 "cells": [
  {
   "cell_type": "code",
   "execution_count": null,
   "id": "ecd04058-1399-4d4e-b487-f668f6d5d08c",
   "metadata": {},
   "outputs": [],
   "source": [
    "from flask import Flask, request, render_template\n",
    "import pickle\n",
    "import numpy as np\n",
    "\n",
    "app = Flask(__name__)\n",
    "\n",
    "# Load your trained model\n",
    "model = pickle.load(open('ipl_model.pkl', 'rb'))\n",
    "\n",
    "@app.route('/')\n",
    "def home():\n",
    "    return render_template('index.html')\n",
    "\n",
    "@app.route('/predict', methods=['POST'])\n",
    "def predict():\n",
    "    # Example input values from form\n",
    "    team1 = int(request.form['team1'])\n",
    "    team2 = int(request.form['team2'])\n",
    "    toss = int(request.form['toss'])\n",
    "    venue = int(request.form['venue'])\n",
    "    \n",
    "    input_data = np.array([[team1, team2, toss, venue]])\n",
    "    prediction = model.predict(input_data)[0]\n",
    "    \n",
    "    return render_template('index.html', prediction_text=f'Predicted Winner: {prediction}')\n",
    "\n",
    "if __name__ == \"__main__\":\n",
    "    app.run(debug=True)\n"
   ]
  }
 ],
 "metadata": {
  "kernelspec": {
   "display_name": "Python 3 (ipykernel)",
   "language": "python",
   "name": "python3"
  },
  "language_info": {
   "codemirror_mode": {
    "name": "ipython",
    "version": 3
   },
   "file_extension": ".py",
   "mimetype": "text/x-python",
   "name": "python",
   "nbconvert_exporter": "python",
   "pygments_lexer": "ipython3",
   "version": "3.12.4"
  }
 },
 "nbformat": 4,
 "nbformat_minor": 5
}
